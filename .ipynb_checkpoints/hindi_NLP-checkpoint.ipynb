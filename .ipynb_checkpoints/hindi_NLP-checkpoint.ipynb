{
 "cells": [
  {
   "cell_type": "markdown",
   "id": "64c22d05-ae5c-498d-9929-aec39753751d",
   "metadata": {},
   "source": [
    "Sentiment Analysis"
   ]
  },
  {
   "cell_type": "code",
   "execution_count": 1,
   "id": "ccf2dda1-35dc-4fad-99a7-54c5d720ccc3",
   "metadata": {},
   "outputs": [],
   "source": [
    "import torch\n",
    "device = torch.device(\"cuda\" if torch.cuda.is_available() else \"cpu\")"
   ]
  },
  {
   "cell_type": "code",
   "execution_count": 2,
   "id": "8601bc4e-8169-4ca0-8e07-e4a78d35727f",
   "metadata": {},
   "outputs": [
    {
     "name": "stderr",
     "output_type": "stream",
     "text": [
      "B:\\Software\\Anaconda\\envs\\predixion\\lib\\site-packages\\huggingface_hub\\file_download.py:1150: FutureWarning: `resume_download` is deprecated and will be removed in version 1.0.0. Downloads always resume when possible. If you want to force a new download, use `force_download=True`.\n",
      "  warnings.warn(\n",
      "B:\\Software\\Anaconda\\envs\\predixion\\lib\\site-packages\\transformers\\utils\\generic.py:260: FutureWarning: `torch.utils._pytree._register_pytree_node` is deprecated. Please use `torch.utils._pytree.register_pytree_node` instead.\n",
      "  torch.utils._pytree._register_pytree_node(\n",
      "B:\\Software\\Anaconda\\envs\\predixion\\lib\\site-packages\\transformers\\modeling_utils.py:479: FutureWarning: You are using `torch.load` with `weights_only=False` (the current default value), which uses the default pickle module implicitly. It is possible to construct malicious pickle data which will execute arbitrary code during unpickling (See https://github.com/pytorch/pytorch/blob/main/SECURITY.md#untrusted-models for more details). In a future release, the default value for `weights_only` will be flipped to `True`. This limits the functions that could be executed during unpickling. Arbitrary objects will no longer be allowed to be loaded via this mode unless they are explicitly allowlisted by the user via `torch.serialization.add_safe_globals`. We recommend you start setting `weights_only=True` for any use case where you don't have full control of the loaded file. Please open an issue on GitHub for any issues related to this experimental feature.\n",
      "  return torch.load(checkpoint_file, map_location=map_location)\n"
     ]
    }
   ],
   "source": [
    "from transformers import AutoTokenizer, AutoModelForSequenceClassification\n",
    "\n",
    "tokenizer = AutoTokenizer.from_pretrained(\"LondonStory/txlm-roberta-hindi-sentiment\")\n",
    "sentimen_analysis_model = AutoModelForSequenceClassification.from_pretrained(\"LondonStory/txlm-roberta-hindi-sentiment\").to(device)"
   ]
  },
  {
   "cell_type": "code",
   "execution_count": 13,
   "id": "e65f6c32-247b-4274-88e3-5ae9bf5dc382",
   "metadata": {},
   "outputs": [],
   "source": [
    "input = 'हाँ-हाँ, मैं समझ गया। मैं पूरी कोशिश करूँगा।'\n",
    "encoded_input = tokenizer(input, return_tensors=\"pt\").to(device)"
   ]
  },
  {
   "cell_type": "code",
   "execution_count": 14,
   "id": "6aa8a5cf-b885-429c-b662-88fb83229999",
   "metadata": {},
   "outputs": [],
   "source": [
    "with torch.no_grad():\n",
    "    output = sentimen_analysis_model(**encoded_input).logits"
   ]
  },
  {
   "cell_type": "code",
   "execution_count": 15,
   "id": "59bc3f14-c0cd-44c6-ad7b-87c8b68fe23d",
   "metadata": {},
   "outputs": [
    {
     "data": {
      "text/plain": [
       "'LABEL_2'"
      ]
     },
     "execution_count": 15,
     "metadata": {},
     "output_type": "execute_result"
    }
   ],
   "source": [
    "predicted_class_id = output.argmax().item()\n",
    "sentimen_analysis_model.config.id2label[predicted_class_id]"
   ]
  },
  {
   "cell_type": "markdown",
   "id": "0e5f0ea3-8ce0-4137-ab2e-e53b9b27fe90",
   "metadata": {},
   "source": [
    "Label 1- neg, Label 0- neutral, Label-2 pos"
   ]
  },
  {
   "cell_type": "code",
   "execution_count": 24,
   "id": "2a19da95-f0e7-4645-abea-bbe96ab643a0",
   "metadata": {},
   "outputs": [
    {
     "data": {
      "text/plain": [
       "XLMRobertaConfig {\n",
       "  \"_name_or_path\": \"LondonStory/txlm-roberta-hindi-sentiment\",\n",
       "  \"architectures\": [\n",
       "    \"XLMRobertaForSequenceClassification\"\n",
       "  ],\n",
       "  \"attention_probs_dropout_prob\": 0.1,\n",
       "  \"bos_token_id\": 0,\n",
       "  \"classifier_dropout\": null,\n",
       "  \"eos_token_id\": 2,\n",
       "  \"gradient_checkpointing\": false,\n",
       "  \"hidden_act\": \"gelu\",\n",
       "  \"hidden_dropout_prob\": 0.1,\n",
       "  \"hidden_size\": 768,\n",
       "  \"id2label\": {\n",
       "    \"0\": \"LABEL_0\",\n",
       "    \"1\": \"LABEL_1\",\n",
       "    \"2\": \"LABEL_2\"\n",
       "  },\n",
       "  \"initializer_range\": 0.02,\n",
       "  \"intermediate_size\": 3072,\n",
       "  \"label2id\": {\n",
       "    \"LABEL_0\": 0,\n",
       "    \"LABEL_1\": 1,\n",
       "    \"LABEL_2\": 2\n",
       "  },\n",
       "  \"layer_norm_eps\": 1e-05,\n",
       "  \"max_position_embeddings\": 514,\n",
       "  \"model_type\": \"xlm-roberta\",\n",
       "  \"num_attention_heads\": 12,\n",
       "  \"num_hidden_layers\": 12,\n",
       "  \"output_past\": true,\n",
       "  \"pad_token_id\": 1,\n",
       "  \"position_embedding_type\": \"absolute\",\n",
       "  \"problem_type\": \"single_label_classification\",\n",
       "  \"torch_dtype\": \"float32\",\n",
       "  \"transformers_version\": \"4.32.1\",\n",
       "  \"type_vocab_size\": 1,\n",
       "  \"use_cache\": true,\n",
       "  \"vocab_size\": 250002\n",
       "}"
      ]
     },
     "execution_count": 24,
     "metadata": {},
     "output_type": "execute_result"
    }
   ],
   "source": [
    "sentimen_analysis_model.config"
   ]
  },
  {
   "cell_type": "code",
   "execution_count": 7,
   "id": "6d8f8b07-8aea-4b46-880d-0dfc3026a220",
   "metadata": {},
   "outputs": [],
   "source": [
    "# Use a pipeline as a high-level helper\n",
    "from transformers import pipeline\n",
    "\n",
    "pipe = pipeline(\"text-classification\", model=\"LondonStory/txlm-roberta-hindi-sentiment\")"
   ]
  },
  {
   "cell_type": "code",
   "execution_count": 8,
   "id": "6a149b40-8f5e-4e7f-8511-2bc13494a667",
   "metadata": {},
   "outputs": [
    {
     "data": {
      "text/plain": [
       "[{'label': 'LABEL_2', 'score': 0.516538679599762}]"
      ]
     },
     "execution_count": 8,
     "metadata": {},
     "output_type": "execute_result"
    }
   ],
   "source": [
    "pipe('नमस्ते, मैं राजेश बोल रहा हूँ, CFI फाइनेंस कंपनी से। क्या मैं श्री सुरेश कुमार से बात कर सकता हूँ?')"
   ]
  },
  {
   "cell_type": "markdown",
   "id": "43967d27-c6d4-44a4-8f6f-55c117c18744",
   "metadata": {},
   "source": [
    "Summarizer"
   ]
  },
  {
   "cell_type": "code",
   "execution_count": 4,
   "id": "3d9cf36f-ea26-4e5f-a9c4-6bc04634f193",
   "metadata": {},
   "outputs": [],
   "source": [
    "from transformers import AutoTokenizer\n",
    "from transformers import AutoModelForSeq2SeqLM, Seq2SeqTrainingArguments, Seq2SeqTrainer\n",
    "\n",
    "checkpoint = \"Jayveersinh-Raj/hindi-summarizer-small\"\n",
    "tokenizer = AutoTokenizer.from_pretrained(checkpoint)\n",
    "model = AutoModelForSeq2SeqLM.from_pretrained(checkpoint).to(\"cuda\" if torch.cuda.is_available() else \"cpu\")\n"
   ]
  },
  {
   "cell_type": "code",
   "execution_count": 7,
   "id": "f05601b4-7312-4605-9c9a-48e4105b5199",
   "metadata": {},
   "outputs": [],
   "source": []
  },
  {
   "cell_type": "code",
   "execution_count": 6,
   "id": "dbb4fd86",
   "metadata": {},
   "outputs": [
    {
     "name": "stdout",
     "output_type": "stream",
     "text": [
      "Input: Speaker 1: नमस्ते, मैं राजेश बोल रहा हूँ, CFI फाइनेंस कंपनी से। क्या मैं श्री सुरेश कुमार से बात कर सकता हूँ? Speaker 2: हाँ, मैं ही सुरेश बोल रहा हूँ। क्या बात है? Speaker 1: सुरेशजी, मैं आपके लोन के बारे में बात करने के लिए फोन कर रहा हूँ। आपका EMI पिछले तीन महीने से बकाया है। Speaker 2: अरे हाँ, मुझे पता है। लेकिन आप लोग हर रोज फोन करके परेशान कर रहे हैं। मैंने कहा था ना कि जैसे ही पैसे होंगे, मैं भर दूंगा।\n",
      "Summarized: उत्तरेशजी, मैं आपके लोन के बारे में बात करने के लिए फोन कर रहा हूँ। आपका EMI पिछले तीन महीने से बकाया है। Speaker 2: हाँ, मैं ही सुरेश बोल रहा हूँ। क्या बात है? Speaker 2: हाँ, मैं ही सुरेश बोल रहा हूँ। क्या बात है? Speaker 2: हाँ, मैं ही सुरेश बोल रहा हूँ। क्या बात है? Speaker 2: हाँ, मैं ही सुरेश बोल रहा हूँ। क्या बात है? Speaker 2: हाँ, मैं ही सुरेश बोल रहा हूँ। क्या बात है? Speaker 2: हाँ, मैं ही सुरेश बोल रहा हूँ। क्या बात है? Speaker 2: हाँ, मैं ही सुरेश बोल रहा हूँ। क्या बात है? Speaker\n"
     ]
    }
   ],
   "source": [
    "# Input paragraph for summarization\n",
    "input_sentence = ''\n",
    "\n",
    "# Tokenize the input sentence\n",
    "input_ids = tokenizer.encode(input_sentence, return_tensors=\"pt\").to(\"cuda\")\n",
    "\n",
    "# Generate predictions\n",
    "with torch.no_grad():\n",
    "   output_ids = model.generate(input_ids, max_new_tokens=200)\n",
    "\n",
    "# Decode the generated output\n",
    "output_sentence = tokenizer.decode(output_ids[0], skip_special_tokens=True)\n",
    "\n",
    "# Print the generated output\n",
    "print(\"Summarized:\", output_sentence)"
   ]
  },
  {
   "cell_type": "code",
   "execution_count": null,
   "id": "fe6c736c-666f-4927-9352-6ce5b8e43cd0",
   "metadata": {},
   "outputs": [],
   "source": []
  }
 ],
 "metadata": {
  "kernelspec": {
   "display_name": "Python 3 (ipykernel)",
   "language": "python",
   "name": "python3"
  },
  "language_info": {
   "codemirror_mode": {
    "name": "ipython",
    "version": 3
   },
   "file_extension": ".py",
   "mimetype": "text/x-python",
   "name": "python",
   "nbconvert_exporter": "python",
   "pygments_lexer": "ipython3",
   "version": "3.9.18"
  }
 },
 "nbformat": 4,
 "nbformat_minor": 5
}
