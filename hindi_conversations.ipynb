{
 "cells": [
  {
   "cell_type": "markdown",
   "id": "e9a61bdf-5e2c-4953-b459-a34ecd0cfe0d",
   "metadata": {},
   "source": [
    "# Summarization"
   ]
  },
  {
   "cell_type": "code",
   "execution_count": 2,
   "id": "94e4d7f7-18cc-4d47-996a-82eb6eb9c237",
   "metadata": {},
   "outputs": [
    {
     "name": "stderr",
     "output_type": "stream",
     "text": [
      "B:\\Software\\Anaconda\\envs\\predixion\\lib\\site-packages\\transformers\\utils\\generic.py:260: FutureWarning: `torch.utils._pytree._register_pytree_node` is deprecated. Please use `torch.utils._pytree.register_pytree_node` instead.\n",
      "  torch.utils._pytree._register_pytree_node(\n"
     ]
    }
   ],
   "source": [
    "import torch\n",
    "from transformers import pipeline\n",
    "from transformers import AutoModel, AutoTokenizer, BertTokenizer, BertModel, AutoModelForSeq2SeqLM, BartForConditionalGeneration, AutoModelForSequenceClassification, AutoModelForTokenClassification\n",
    "from collections import Counter\n",
    "import googletrans"
   ]
  },
  {
   "cell_type": "code",
   "execution_count": 3,
   "id": "f76c109f-4abf-410e-9d81-6a8437b8ffcd",
   "metadata": {},
   "outputs": [],
   "source": [
    "device = torch.device(\"cuda\" if torch.cuda.is_available() else \"cpu\")\n",
    "translate = googletrans.Translator()"
   ]
  },
  {
   "cell_type": "code",
   "execution_count": 4,
   "id": "f77df4c7-84eb-4c84-b04c-9ccfd43ed63a",
   "metadata": {},
   "outputs": [],
   "source": [
    "en_conversations = []\n",
    "hi_conversations= []\n",
    "en_agent_spoke = []\n",
    "hi_agent_spoke = []\n",
    "\n",
    "with open('convo.txt', 'r',encoding='utf-8') as f:\n",
    "    for line in f:\n",
    "        line = line.strip()\n",
    "        if line:\n",
    "            speaker, dialogue = line.split(':')\n",
    "            en_dialogue = translate.translate(dialogue.strip(),dest=\"en\").text\n",
    "            hi_conversations.append(dialogue)\n",
    "            en_conversations.append(f'{en_dialogue}')\n",
    "            if(speaker == 'Speaker 1'):\n",
    "                en_agent_spoke.append(en_dialogue)\n",
    "                hi_agent_spoke.append(dialogue)\n",
    "\n",
    "hi_convo = '| '.join(hi_conversations)\n",
    "en_convo = '. '.join(en_conversations)"
   ]
  },
  {
   "cell_type": "code",
   "execution_count": 5,
   "id": "c87ac266-d9a9-4d9d-8174-f215fd8f7396",
   "metadata": {},
   "outputs": [],
   "source": [
    "#To split conversations into smaller chunks (for model token limit)\n",
    "\n",
    "en_chunks = []\n",
    "context_window = 10\n",
    "for i in range(0,len(en_conversations),context_window):\n",
    "    sentences = en_conversations[i:min(i + context_window, len(en_conversations))]\n",
    "    _ = ' '.join(sentences)\n",
    "    en_chunks.append(_)\n",
    "\n",
    "hi_chunks = []\n",
    "context_window = 10\n",
    "for i in range(0,len(hi_conversations),context_window):\n",
    "    sentences = hi_conversations[i:min(i + context_window, len(hi_conversations))]\n",
    "    _ = ' '.join(sentences)\n",
    "    hi_chunks.append(_)"
   ]
  },
  {
   "cell_type": "code",
   "execution_count": 6,
   "id": "17183fd7-2b4c-45ab-acd2-b8e68d2afa92",
   "metadata": {},
   "outputs": [],
   "source": [
    "#Minimum no. of Tokens in summary \n",
    "min_response = 100\n",
    "\n",
    "#Maximum no. of Tokens in summary\n",
    "max_response = 300"
   ]
  },
  {
   "cell_type": "code",
   "execution_count": 12,
   "id": "a48010df-abca-481f-9eff-6f04d10f6ac3",
   "metadata": {},
   "outputs": [],
   "source": [
    "summary_tokenize = AutoTokenizer.from_pretrained(\"kabita-choudhary/finetuned-bart-for-conversation-summary\")\n",
    "summarize = AutoModelForSeq2SeqLM.from_pretrained(\"kabita-choudhary/finetuned-bart-for-conversation-summary\")"
   ]
  },
  {
   "cell_type": "code",
   "execution_count": 14,
   "id": "c37b5bab-f0d8-49eb-82c3-c5a42f676399",
   "metadata": {},
   "outputs": [
    {
     "name": "stderr",
     "output_type": "stream",
     "text": [
      "Truncation was not explicitly activated but `max_length` is provided a specific value, please use `truncation=True` to explicitly truncate examples to max length. Defaulting to 'longest_first' truncation strategy. If you encode pairs of sequences (GLUE-style) with the tokenizer you can select this strategy more precisely by providing a specific strategy to `truncation`.\n"
     ]
    }
   ],
   "source": [
    "inputs = summary_tokenize([en_convo], max_length=1024, return_tensors=\"pt\")\n",
    "summary_ids = summarize.generate(inputs[\"input_ids\"], num_beams=2, min_length=min_response, max_length=max_response)\n",
    "summary = summary_tokenize.batch_decode(summary_ids, skip_special_tokens=True, clean_up_tokenization_spaces=False)[0]"
   ]
  },
  {
   "cell_type": "code",
   "execution_count": 16,
   "id": "6d511044-29cc-4523-9f0a-d6c9b17476fd",
   "metadata": {},
   "outputs": [
    {
     "name": "stdout",
     "output_type": "stream",
     "text": [
      "Conversation Summary in English: \n",
      "Suresh owes CFI Finance Company Rs 75,000 in outstanding EMI. He owes Rs 50,000 to the company. CFI wants Rs 25,000 by tomorrow. Suresh's mother is ill and the money was spent on her treatment. If he doesn't pay the money by tomorrow, CFI will come to his house and he will call the police and they will see who can treat him.    They will also take legal action. \n",
      "\n",
      "Conversation Summary in Hindi: \n",
      "सुरेश पर सीएफआई फाइनेंस कंपनी का 75,000 रुपये ईएमआई बकाया है। उन पर कंपनी का 50 हजार रुपये बकाया है। सीएफआई को कल तक 25,000 रुपये चाहिए। सुरेश की मां बीमार हैं और उनके इलाज में पैसे खर्च हो गये. अगर उसने कल तक पैसे नहीं दिए तो सीएफआई उसके घर आएगी और वह पुलिस को बुलाएगा और वे देखेंगे कि कौन उसका इलाज कर सकता है।    वे कानूनी कार्रवाई भी करेंगे.\n"
     ]
    }
   ],
   "source": [
    "print(f'Conversation Summary in English: \\n{summary}\\n')\n",
    "hi_summary = translate.translate(summary,dest='hi').text\n",
    "print(f'Conversation Summary in Hindi: \\n{hi_summary}')"
   ]
  },
  {
   "cell_type": "markdown",
   "id": "5f57645a-5e9c-4aee-bea9-26cecde2c112",
   "metadata": {},
   "source": [
    "# Key Action Items"
   ]
  },
  {
   "cell_type": "code",
   "execution_count": 18,
   "id": "d427fc01-a966-4b97-a152-9cb76a37f847",
   "metadata": {},
   "outputs": [],
   "source": [
    "action_tokenize = AutoTokenizer.from_pretrained(\"debal/bart-large-samsum-action-items\")\n",
    "action_model = AutoModelForSeq2SeqLM.from_pretrained(\"debal/bart-large-samsum-action-items\")"
   ]
  },
  {
   "cell_type": "code",
   "execution_count": 20,
   "id": "40780b32-569c-42bf-9f3f-5c22b4041743",
   "metadata": {},
   "outputs": [],
   "source": [
    "#Actions Item per Sentence Chunk\n",
    "action_items = []\n",
    "\n",
    "for conv in en_chunks:\n",
    "    inputs = action_tokenize([conv], max_length=1024, return_tensors=\"pt\",truncation=True)\n",
    "    summary_ids = action_model.generate(inputs[\"input_ids\"], num_beams=2, min_length=32, max_length=64)\n",
    "    action_items.append(action_tokenize.batch_decode(summary_ids, skip_special_tokens=True, clean_up_tokenization_spaces=False)[0])"
   ]
  },
  {
   "cell_type": "code",
   "execution_count": 21,
   "id": "9ef01732-a657-4766-8fcf-4e58c2432723",
   "metadata": {},
   "outputs": [
    {
     "name": "stdout",
     "output_type": "stream",
     "text": [
      "[ नमस्ते, मैं राजेश बोल रहा हूँ, CFI फाइनेंस कंपनी से। क्या मैं श्री सुरेश कुमार से बात कर सकता हूँ?  हाँ, मैं ही सुरेश बोल रहा हूँ। क्या बात है?  सुरेशजी, मैं आपके लोन के बारे में बात करने के लिए फोन कर रहा हूँ। आपका EMI पिछले तीन महीने से बकाया है।  अरे हाँ, मुझे पता है। लेकिन आप लोग हर रोज फोन करके परेशान कर रहे हैं। मैंने कहा था ना कि जैसे ही पैसे होंगे, मैं भर दूंगा।  देखिए सुरेशजी, हम समझते हैं आपकी परेशानी। लेकिन आप भी समझिए, यह हमारा काम है। आपको पता है कि आपके ऊपर कितना बकाया है?  हाँ-हाँ, मुझे अंदाजा है। लगभग 50,000 रुपये होंगे।  नहीं सुरेशजी, आप गलत हैं। आप पर कुल 75,000 रुपये बकाया है, जिसमें लेट फीस और ब्याज भी शामिल है।  क्या? इतने ज्यादा? यह कैसे हो सकता है? आप लोग लूट रहे हैं क्या?  देखिए सुरेशजी, गुस्सा करने से कुछ नहीं होगा। आपको समय पर पैसे जमा करने चाहिए थे। अब बताइए, कब तक आप यह राशि जमा कर सकते हैं?  अरे भाई, मेरी बात तो सुनो! मेरी माँ की तबीयत खराब है, अस्पताल में भर्ती हैं। सारे पैसे उनके इलाज में खर्च हो गए।]\n",
      " %%Action Item:[SEP]Pay outstanding mortgage payment||Suresh Kumar[SEP]Further harassing phone calls from CFI Finance Company||Rajesh[SEP]Depositing late fees and interest on outstanding loan||SURESh Kumar||CFI finance company[SEP]Getting angry will do nothing||Raja%%\n",
      "\n",
      "[  सुरेशजी, मुझे आपकी परिस्थिति से कोई मतलब नहीं है। हमें बस अपना पैसा चाहिए। आप समझ रहे हैं या नहीं?  क्या बकवास कर रहे हो? तुम्हें शर्म नहीं आती? मेरी माँ मरने की कगार पर हैं और तुम पैसों की बात कर रहे हो?   देखो सुरेश, मुझे तुम्हारी कहानियों से कोई फर्क नहीं पड़ता। तुमने लोन लिया है तो चुकाना पड़ेगा। समझे? वरना हम कानूनी कार्रवाई करेंगे।  तुम धमकी दे रहे हो? तुम्हें पता है मैं कौन हूँ? मैं तुम्हारी नौकरी गंवा सकता हूँ।   अरे वाह! अब तुम भी धमकी दे रहे हो? चलो, देखते हैं कौन क्या कर सकता है। तुम अपनी माँ का इलाज करवाओ, मैं तुम्हारा इलाज करूँगा।  बदतमीज! तुम्हारी हिम्मत कैसे हुई ऐसे बात करने की? मैं तुम्हारे बॉस से शिकायत करूँगा।  करो जो करना है। लेकिन याद रखना, अगर कल तक पैसे नहीं आए तो मैं खुद तुम्हारे घर आऊंगा। और तब देखेंगे कौन किसका इलाज करता है।  तुम मेरे घर आओगे? ठीक है, आ जाओ। देखता हूँ कैसे आते हो। मैं पुलिस को बुला लूंगा।  अरे वाह! पुलिस? बहुत अच्छा। हम भी देखेंगे कि पुलिस किसका साथ देती है - एक कर्जदार का या एक कानूनी कंपनी का।  तुम... तुम बहुत बुरे इंसान हो। मेरी मजबूरी का फायदा उठा रहे हो।]\n",
      " %%Action Item:[SEP]Complain to your boss||Suresh[SEP]Come to Suresh's house tomorrow||SURESh[SEP]Call the police||Sure See who treats who||Suringurb The money will not come by tomorrow||UNKNOWN%%\n",
      "\n",
      "[  हाँ-हाँ, मैं बहुत बुरा हूँ। लेकिन तुमसे तो अच्छा ही हूँ। कम से कम मैं अपने वादे तो पूरे करता हूँ।  क्या मतलब? मैंने कभी वादा तोड़ा है क्या?  अरे सुरेश भाई, तुमने हर महीने EMI भरने का वादा किया था। वो क्या हुआ? भूल गए?   देखो, मैं समझता हूँ। लेकिन अभी मेरे पास सच में पैसे नहीं हैं। क्या कोई और तरीका नहीं है?  तरीका तो है। लेकिन उसके लिए तुम्हें कुछ करना होगा।  क्या करना होगा? बताओ, मैं तैयार हूँ।  पहले तो अपनी माँ का इलाज बंद करो। उन पैसों से हमारा कर्ज चुका दो।   क्या बकवास कर रहे हो? तुम पागल हो गए हो क्या?  अरे नहीं-नहीं, मैं तो मजाक कर रहा था। तुम तो बहुत जल्दी गुस्सा हो जाते हो।   तुम्हें यह सब मजाक लगता है? मेरी जिंदगी बर्बाद हो रही है और तुम मजाक कर रहे हो?]\n",
      " %%Action Item:[SEP]Stop treating your mother||Suresh Bhai[SEP]Pay off their debt with that money||SURESh Bhaya%%\n",
      "\n",
      "[ अच्छा सुनो, मैं तुम्हें एक और मौका देता हूँ। कल तक 25,000 रुपये जमा कर दो। बाकी के लिए हम एक नया प्लान बना लेंगे।  25,000? इतने पैसे कहाँ से लाऊँ मैं?  वो तुम्हारी समस्या है। चाहे दोस्तों से उधार लो, या फिर कुछ बेच दो। लेकिन कल तक पैसे चाहिए।  तुम समझ क्यों नहीं रहे हो? मेरे पास सच में पैसे नहीं हैं।  देखो सुरेश, मुझे लगता है तुम समझ नहीं रहे हो। अगर तुम कल तक पैसे नहीं देते, तो मैं तुम्हारे ऑफिस आऊंगा और सबके सामने तुम्हारी पोल खोल दूंगा।   नहीं-नहीं, ऐसा मत करना। मेरी इज्जत का सवाल है।  तो फिर ठीक है। कल तक पैसे जमा कर दो। वरना तुम जानते हो क्या होगा।  ठीक है, मैं कोशिश करूँगा। लेकिन प्लीज, मेरे ऑफिस मत आना।  बहुत अच्छा। अब तुम समझदारी की बात कर रहे हो। याद रखना, कल शाम 5 बजे तक पैसे नहीं आए तो मैं सीधा तुम्हारे ऑफिस पहुँच जाऊंगा।  हाँ-हाँ, मैं समझ गया। मैं पूरी कोशिश करूँगा।]\n",
      " %%Action Item:[SEP]Deposit Rs 25,000 by tomorrow||Suresh[SEP]Make a new plan for the rest||Dawn[SEP]Don't come to Suresh's office if money is not received by 5 pm tomorrow||UNKNOWN%%\n",
      "\n",
      "[ ठीक है। और हाँ, अगली बार जब लोन लो तो याद रखना - समय पर पैसे नहीं चुकाओगे तो ऐसे ही परेशान होना पड़ेगा।   हाँ, मैं समझ गया। अब मैं रखता हूँ।  ठीक है। और याद रखना, कल शाम 5 बजे। एक मिनट की भी देरी हुई तो...  हाँ-हाँ, मैंने कहा ना मैं कोशिश करूँगा।  कोशिश नहीं, करना होगा। समझे? अच्छा, अब रखता हूँ। कल मिलते हैं - या तो बैंक में, या फिर तुम्हारे ऑफिस में।   हाँ, ठीक है। नमस्ते।]\n",
      " %%Action Item:[SEP]Keep the loan payment on time||The next time you take a loan, don't try to delay it||I will see you tomorrow at 5 pm in the bank or in the office||I%%\n",
      "\n"
     ]
    }
   ],
   "source": [
    "for i,conv in enumerate(en_chunks):\n",
    "    print(f'[{hi_chunks[i]}]\\n %%{action_items[i]}%%\\n')"
   ]
  },
  {
   "cell_type": "code",
   "execution_count": 22,
   "id": "070eb774-a7af-44c1-a254-031333e1ae30",
   "metadata": {},
   "outputs": [],
   "source": [
    "#Action Items from entire Conversation\n",
    "\n",
    "inputs = action_tokenize([en_convo], max_length=1024, return_tensors=\"pt\",truncation=True)\n",
    "summary_ids = action_model.generate(inputs[\"input_ids\"], num_beams=2, min_length=64, max_length=256)\n",
    "actions = action_tokenize.batch_decode(summary_ids, skip_special_tokens=True, clean_up_tokenization_spaces=False)[0]"
   ]
  },
  {
   "cell_type": "code",
   "execution_count": 23,
   "id": "c90da4cf-6c15-48cc-b762-d7e49d5875d7",
   "metadata": {},
   "outputs": [
    {
     "name": "stdout",
     "output_type": "stream",
     "text": [
      "Action Item:[SEP]Deposit Rs 25,000 by tomorrow||Rajesh[SEP]Get mother treated or get loan repayment||Suresh Kumar[SEP]Come to Suresh's house and see who treats whom||UNKNOWN[SEP]Call the police if money doesn't come by tomorrow || Rajesh[SEP]Come and expose SuresH in front of everyone||Raja\n"
     ]
    }
   ],
   "source": [
    "print(actions)"
   ]
  },
  {
   "cell_type": "markdown",
   "id": "a937956a-1c6e-4e53-900a-93e11530a76a",
   "metadata": {},
   "source": [
    "# Sentiment Analysis"
   ]
  },
  {
   "cell_type": "code",
   "execution_count": 28,
   "id": "29a37fbc-3131-47a8-80b3-6122c8bfb08a",
   "metadata": {},
   "outputs": [],
   "source": [
    "sentiment_tokenize = AutoTokenizer.from_pretrained(\"LondonStory/txlm-roberta-hindi-sentiment\")\n",
    "sentiment_analyze = AutoModelForSequenceClassification.from_pretrained(\"LondonStory/txlm-roberta-hindi-sentiment\").to(device)"
   ]
  },
  {
   "cell_type": "code",
   "execution_count": 30,
   "id": "fd99082d-daea-4d65-b98a-7ec63f394238",
   "metadata": {},
   "outputs": [],
   "source": [
    "def sentiment(label):\n",
    "    if label == 'LABEL_1':\n",
    "        return 'Negative'\n",
    "    elif label == 'LABEL_2':\n",
    "        return 'Positive'\n",
    "    else:\n",
    "        return 'Neutral'"
   ]
  },
  {
   "cell_type": "code",
   "execution_count": 32,
   "id": "324a1406-a9f3-4e06-bd2d-c48b6953ad6b",
   "metadata": {},
   "outputs": [],
   "source": [
    "sentiments = []\n",
    "\n",
    "for conv in hi_chunks:\n",
    "    inputs = sentiment_tokenize(conv, return_tensors=\"pt\").to(device)\n",
    "    with torch.no_grad():\n",
    "        output = sentiment_analyze(**inputs).logits\n",
    "    predicted_class_id = output.argmax().item()\n",
    "    sentiment_label = sentiment_analyze.config.id2label[predicted_class_id]\n",
    "    sentiments.append(sentiment(sentiment_label))"
   ]
  },
  {
   "cell_type": "code",
   "execution_count": 34,
   "id": "96b558bb-68d2-484e-881d-19eda84ac52f",
   "metadata": {},
   "outputs": [
    {
     "name": "stdout",
     "output_type": "stream",
     "text": [
      " नमस्ते, मैं राजेश बोल रहा हूँ, CFI फाइनेंस कंपनी से। क्या मैं श्री सुरेश कुमार से बात कर सकता हूँ?  हाँ, मैं ही सुरेश बोल रहा हूँ। क्या बात है?  सुरेशजी, मैं आपके लोन के बारे में बात करने के लिए फोन कर रहा हूँ। आपका EMI पिछले तीन महीने से बकाया है।  अरे हाँ, मुझे पता है। लेकिन आप लोग हर रोज फोन करके परेशान कर रहे हैं। मैंने कहा था ना कि जैसे ही पैसे होंगे, मैं भर दूंगा।  देखिए सुरेशजी, हम समझते हैं आपकी परेशानी। लेकिन आप भी समझिए, यह हमारा काम है। आपको पता है कि आपके ऊपर कितना बकाया है?  हाँ-हाँ, मुझे अंदाजा है। लगभग 50,000 रुपये होंगे।  नहीं सुरेशजी, आप गलत हैं। आप पर कुल 75,000 रुपये बकाया है, जिसमें लेट फीस और ब्याज भी शामिल है।  क्या? इतने ज्यादा? यह कैसे हो सकता है? आप लोग लूट रहे हैं क्या?  देखिए सुरेशजी, गुस्सा करने से कुछ नहीं होगा। आपको समय पर पैसे जमा करने चाहिए थे। अब बताइए, कब तक आप यह राशि जमा कर सकते हैं?  अरे भाई, मेरी बात तो सुनो! मेरी माँ की तबीयत खराब है, अस्पताल में भर्ती हैं। सारे पैसे उनके इलाज में खर्च हो गए।\n",
      "%%Sentiment: Negative %%\n",
      "\n",
      "  सुरेशजी, मुझे आपकी परिस्थिति से कोई मतलब नहीं है। हमें बस अपना पैसा चाहिए। आप समझ रहे हैं या नहीं?  क्या बकवास कर रहे हो? तुम्हें शर्म नहीं आती? मेरी माँ मरने की कगार पर हैं और तुम पैसों की बात कर रहे हो?   देखो सुरेश, मुझे तुम्हारी कहानियों से कोई फर्क नहीं पड़ता। तुमने लोन लिया है तो चुकाना पड़ेगा। समझे? वरना हम कानूनी कार्रवाई करेंगे।  तुम धमकी दे रहे हो? तुम्हें पता है मैं कौन हूँ? मैं तुम्हारी नौकरी गंवा सकता हूँ।   अरे वाह! अब तुम भी धमकी दे रहे हो? चलो, देखते हैं कौन क्या कर सकता है। तुम अपनी माँ का इलाज करवाओ, मैं तुम्हारा इलाज करूँगा।  बदतमीज! तुम्हारी हिम्मत कैसे हुई ऐसे बात करने की? मैं तुम्हारे बॉस से शिकायत करूँगा।  करो जो करना है। लेकिन याद रखना, अगर कल तक पैसे नहीं आए तो मैं खुद तुम्हारे घर आऊंगा। और तब देखेंगे कौन किसका इलाज करता है।  तुम मेरे घर आओगे? ठीक है, आ जाओ। देखता हूँ कैसे आते हो। मैं पुलिस को बुला लूंगा।  अरे वाह! पुलिस? बहुत अच्छा। हम भी देखेंगे कि पुलिस किसका साथ देती है - एक कर्जदार का या एक कानूनी कंपनी का।  तुम... तुम बहुत बुरे इंसान हो। मेरी मजबूरी का फायदा उठा रहे हो।\n",
      "%%Sentiment: Negative %%\n",
      "\n",
      "  हाँ-हाँ, मैं बहुत बुरा हूँ। लेकिन तुमसे तो अच्छा ही हूँ। कम से कम मैं अपने वादे तो पूरे करता हूँ।  क्या मतलब? मैंने कभी वादा तोड़ा है क्या?  अरे सुरेश भाई, तुमने हर महीने EMI भरने का वादा किया था। वो क्या हुआ? भूल गए?   देखो, मैं समझता हूँ। लेकिन अभी मेरे पास सच में पैसे नहीं हैं। क्या कोई और तरीका नहीं है?  तरीका तो है। लेकिन उसके लिए तुम्हें कुछ करना होगा।  क्या करना होगा? बताओ, मैं तैयार हूँ।  पहले तो अपनी माँ का इलाज बंद करो। उन पैसों से हमारा कर्ज चुका दो।   क्या बकवास कर रहे हो? तुम पागल हो गए हो क्या?  अरे नहीं-नहीं, मैं तो मजाक कर रहा था। तुम तो बहुत जल्दी गुस्सा हो जाते हो।   तुम्हें यह सब मजाक लगता है? मेरी जिंदगी बर्बाद हो रही है और तुम मजाक कर रहे हो?\n",
      "%%Sentiment: Negative %%\n",
      "\n",
      " अच्छा सुनो, मैं तुम्हें एक और मौका देता हूँ। कल तक 25,000 रुपये जमा कर दो। बाकी के लिए हम एक नया प्लान बना लेंगे।  25,000? इतने पैसे कहाँ से लाऊँ मैं?  वो तुम्हारी समस्या है। चाहे दोस्तों से उधार लो, या फिर कुछ बेच दो। लेकिन कल तक पैसे चाहिए।  तुम समझ क्यों नहीं रहे हो? मेरे पास सच में पैसे नहीं हैं।  देखो सुरेश, मुझे लगता है तुम समझ नहीं रहे हो। अगर तुम कल तक पैसे नहीं देते, तो मैं तुम्हारे ऑफिस आऊंगा और सबके सामने तुम्हारी पोल खोल दूंगा।   नहीं-नहीं, ऐसा मत करना। मेरी इज्जत का सवाल है।  तो फिर ठीक है। कल तक पैसे जमा कर दो। वरना तुम जानते हो क्या होगा।  ठीक है, मैं कोशिश करूँगा। लेकिन प्लीज, मेरे ऑफिस मत आना।  बहुत अच्छा। अब तुम समझदारी की बात कर रहे हो। याद रखना, कल शाम 5 बजे तक पैसे नहीं आए तो मैं सीधा तुम्हारे ऑफिस पहुँच जाऊंगा।  हाँ-हाँ, मैं समझ गया। मैं पूरी कोशिश करूँगा।\n",
      "%%Sentiment: Neutral %%\n",
      "\n",
      " ठीक है। और हाँ, अगली बार जब लोन लो तो याद रखना - समय पर पैसे नहीं चुकाओगे तो ऐसे ही परेशान होना पड़ेगा।   हाँ, मैं समझ गया। अब मैं रखता हूँ।  ठीक है। और याद रखना, कल शाम 5 बजे। एक मिनट की भी देरी हुई तो...  हाँ-हाँ, मैंने कहा ना मैं कोशिश करूँगा।  कोशिश नहीं, करना होगा। समझे? अच्छा, अब रखता हूँ। कल मिलते हैं - या तो बैंक में, या फिर तुम्हारे ऑफिस में।   हाँ, ठीक है। नमस्ते।\n",
      "%%Sentiment: Negative %%\n",
      "\n",
      "\n",
      "OVERALL SENTIMENT OF CONVERSATION: Negative\n"
     ]
    }
   ],
   "source": [
    "#Sentiment of each Chunk of Conversation\n",
    "\n",
    "for i, conv in enumerate(hi_chunks):\n",
    "    print(f'{conv}\\n%%Sentiment: {sentiments[i]} %%\\n')\n",
    "\n",
    "#Overall Sentiment\n",
    "\n",
    "item_counts = Counter(sentiments)\n",
    "print(f'\\nOVERALL SENTIMENT OF CONVERSATION: {item_counts.most_common(1)[0][0]}')"
   ]
  },
  {
   "cell_type": "markdown",
   "id": "b0608c3e-4648-4709-ac70-9e6a4ddd268b",
   "metadata": {},
   "source": [
    "# Named Entity Recognition"
   ]
  },
  {
   "cell_type": "code",
   "execution_count": 36,
   "id": "81796065-1220-43db-acf1-fb68c732730f",
   "metadata": {},
   "outputs": [],
   "source": [
    "ner_tokenize = AutoTokenizer.from_pretrained(\"google/muril-base-cased\")\n",
    "ner_model = AutoModelForTokenClassification.from_pretrained(\"MichaelHuang/muril_base_cased_hindi_ner\")"
   ]
  },
  {
   "cell_type": "code",
   "execution_count": 37,
   "id": "084c3eac-6a51-436f-ade1-58ea128f8052",
   "metadata": {},
   "outputs": [],
   "source": [
    "labels_dict = {\n",
    "    0: \"B-FESTIVAL\",\n",
    "    1: \"B-GAME\",\n",
    "    2: \"B-LANGUAGE\",\n",
    "    3: \"B-LITERATURE\",\n",
    "    4: \"B-LOCATION\",\n",
    "    5: \"B-MISC\",\n",
    "    6: \"B-NUMEX\",\n",
    "    7: \"B-ORGANIZATION\",\n",
    "    8: \"B-PERSON\",\n",
    "    9: \"B-RELIGION\",\n",
    "    10: \"B-TIMEX\",\n",
    "    11: \"I-FESTIVAL\",\n",
    "    12: \"I-GAME\",\n",
    "    13: \"I-LANGUAGE\",\n",
    "    14: \"I-LITERATURE\",\n",
    "    15: \"I-LOCATION\",\n",
    "    16: \"I-MISC\",\n",
    "    17: \"I-NUMEX\",\n",
    "    18: \"I-ORGANIZATION\",\n",
    "    19: \"I-PERSON\",\n",
    "    20: \"I-RELIGION\",\n",
    "    21: \"I-TIMEX\",\n",
    "    22: \"O\"\n",
    "}"
   ]
  },
  {
   "cell_type": "code",
   "execution_count": 40,
   "id": "1e2f575c-b015-4520-8e09-584d8a830cbc",
   "metadata": {},
   "outputs": [],
   "source": [
    "inputs = ner_tokenize(hi_convo, return_tensors=\"pt\", padding=True, truncation=True, max_length=128)"
   ]
  },
  {
   "cell_type": "code",
   "execution_count": 42,
   "id": "cbc383fc-7849-4c4d-bd90-2d80fb098974",
   "metadata": {},
   "outputs": [],
   "source": [
    "with torch.no_grad():\n",
    "  output = ner_model(**inputs).logits\n",
    "\n",
    "predicted_labels = output.argmax(-1)\n",
    "labels = predicted_labels.squeeze().tolist()\n",
    "tokens = ner_tokenize.convert_ids_to_tokens(inputs[\"input_ids\"][0])"
   ]
  },
  {
   "cell_type": "code",
   "execution_count": 44,
   "id": "9d3072dc-e3c5-4bb6-b14d-6b3675c22918",
   "metadata": {},
   "outputs": [
    {
     "name": "stdout",
     "output_type": "stream",
     "text": [
      "राजेश: B-PERSON\n",
      "CF: B-ORGANIZATION\n",
      "##I: B-ORGANIZATION\n",
      "फाइनेंस: I-ORGANIZATION\n",
      "कंपनी: I-ORGANIZATION\n",
      "श्री: B-PERSON\n",
      "सुरेश: B-PERSON\n",
      "कुमार: I-PERSON\n",
      "सुरेश: B-PERSON\n",
      "सुरेश: B-PERSON\n",
      "तीन: B-TIMEX\n",
      "महीने: I-TIMEX\n",
      "सुरेश: B-PERSON\n"
     ]
    }
   ],
   "source": [
    "predicted_labels = [labels_dict[label] for label in labels]\n",
    "\n",
    "result = list(zip(tokens, predicted_labels))\n",
    "\n",
    "for token, label in result:\n",
    "  if label != \"O\":\n",
    "    print(f\"{token}: {label}\")"
   ]
  },
  {
   "cell_type": "markdown",
   "id": "7d501671-468e-42ff-9546-939161a41d12",
   "metadata": {},
   "source": [
    "# Non-Compliance Check"
   ]
  },
  {
   "cell_type": "code",
   "execution_count": 46,
   "id": "ae5035e3-9216-4fbc-af72-acb2d0e1de5f",
   "metadata": {},
   "outputs": [],
   "source": [
    "compliance = {\n",
    "    \"Using_Threatening_Language\": \"If you don't pay this debt by tomorrow, we will send someone to your house to collect the money, and it won't be pleasant\",\n",
    "    \"Disclosing_Debt_Information_to_Third Parties\":\"We called your workplace and spoke to your colleague about your debt situation\",\n",
    "    \"Calling_Outside_Permissible_Hours\": \"It's 10 PM, but I need to remind you again to pay your overdue amount\",\n",
    "    \"Providing_False_or_Misleading_Information\": \"If you don't pay this debt immediately, you will be arrested tomorrow\",\n",
    "    \"Failing_to_Validate_the_Debt\": \"You owe $1,000, and there's no need for us to provide proof. Just pay it\"\n",
    "}"
   ]
  },
  {
   "cell_type": "code",
   "execution_count": 48,
   "id": "d03fc64e-f3df-432a-9d33-edb608f23e71",
   "metadata": {},
   "outputs": [],
   "source": [
    "tokenizer = BertTokenizer.from_pretrained('bert-base-uncased')\n",
    "model = BertModel.from_pretrained(\"bert-base-uncased\")"
   ]
  },
  {
   "cell_type": "code",
   "execution_count": 50,
   "id": "216a23a6-1dc3-40af-8c2a-9485637c65ee",
   "metadata": {},
   "outputs": [
    {
     "name": "stdout",
     "output_type": "stream",
     "text": [
      "Compliance Issue with \" करो जो करना है। लेकिन याद रखना, अगर कल तक पैसे नहीं आए तो मैं खुद तुम्हारे घर आऊंगा। और तब देखेंगे कौन किसका इलाज करता है।\"=>['Using_Threatening_Language']\n",
      "\n",
      "Compliance Issue with \" पहले तो अपनी माँ का इलाज बंद करो। उन पैसों से हमारा कर्ज चुका दो।\"=>['Failing_to_Validate_the_Debt']\n",
      "\n",
      "Compliance Issue with \" वो तुम्हारी समस्या है। चाहे दोस्तों से उधार लो, या फिर कुछ बेच दो। लेकिन कल तक पैसे चाहिए।\"=>['Failing_to_Validate_the_Debt']\n",
      "\n",
      "Compliance Issue with \" तो फिर ठीक है। कल तक पैसे जमा कर दो। वरना तुम जानते हो क्या होगा।\"=>['Failing_to_Validate_the_Debt']\n",
      "\n",
      "Compliance Issue with \" बहुत अच्छा। अब तुम समझदारी की बात कर रहे हो। याद रखना, कल शाम 5 बजे तक पैसे नहीं आए तो मैं सीधा तुम्हारे ऑफिस पहुँच जाऊंगा।\"=>['Calling_Outside_Permissible_Hours']\n",
      "\n"
     ]
    }
   ],
   "source": [
    "for i,speech in enumerate(en_agent_spoke):\n",
    "    agent_input_id = tokenizer(speech, return_tensors=\"pt\")\n",
    "    agent_output_id = model(**agent_input_id)\n",
    "    agent_output = agent_output_id.last_hidden_state[:,0,:]\n",
    "    issues = []\n",
    "    for policy in compliance:\n",
    "        comply_id = tokenizer(compliance[policy], return_tensors=\"pt\")\n",
    "        comply_output_id = model(**comply_id)\n",
    "        comply_output = comply_output_id.last_hidden_state[:,0,:]\n",
    "        if(torch.cosine_similarity(agent_output,comply_output).item()>=0.89):\n",
    "            issues.append(policy)\n",
    "    if len(issues):\n",
    "        print(f'Compliance Issue with \"{hi_agent_spoke[i]}\"=>{issues}\\n')"
   ]
  }
 ],
 "metadata": {
  "kernelspec": {
   "display_name": "Python [conda env:predixion]",
   "language": "python",
   "name": "conda-env-predixion-py"
  },
  "language_info": {
   "codemirror_mode": {
    "name": "ipython",
    "version": 3
   },
   "file_extension": ".py",
   "mimetype": "text/x-python",
   "name": "python",
   "nbconvert_exporter": "python",
   "pygments_lexer": "ipython3",
   "version": "3.9.18"
  }
 },
 "nbformat": 4,
 "nbformat_minor": 5
}
