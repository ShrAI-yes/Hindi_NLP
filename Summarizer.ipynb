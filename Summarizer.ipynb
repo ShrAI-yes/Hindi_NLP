{
 "cells": [
  {
   "cell_type": "code",
   "execution_count": null,
   "id": "0587377c-c9bc-4c86-9005-316c01e6a765",
   "metadata": {},
   "outputs": [],
   "source": [
    "'वक्ता' 'बोला' "
   ]
  },
  {
   "cell_type": "code",
   "execution_count": 3,
   "id": "0a8f8686-9cf9-4501-8dd4-0b7513927939",
   "metadata": {},
   "outputs": [],
   "source": [
    "import googletrans\n",
    "translate = googletrans.Translator()"
   ]
  },
  {
   "cell_type": "code",
   "execution_count": 16,
   "id": "c2a730c9-77fc-47b8-b2ef-74516ae2fbc3",
   "metadata": {},
   "outputs": [],
   "source": [
    "from deep_translator import GoogleTranslator\n",
    "dt_translator = GoogleTranslator(source=\"hi\", target=\"en\")"
   ]
  },
  {
   "cell_type": "code",
   "execution_count": 22,
   "id": "ed115c04-c030-4d0b-b97e-392ff4d5fc27",
   "metadata": {},
   "outputs": [
    {
     "data": {
      "text/plain": [
       "str"
      ]
     },
     "execution_count": 22,
     "metadata": {},
     "output_type": "execute_result"
    }
   ],
   "source": [
    "test = dt_translator.translate('देखिए सुरेशजी, गुस्सा करने से कुछ नहीं होगा। आपको समय पर पैसे जमा करने चाहिए थे। अब बताइए, कब तक आप यह राशि जमा कर सकते हैं?')\n",
    "type(test)"
   ]
  },
  {
   "cell_type": "code",
   "execution_count": 74,
   "id": "e6ab7ae1-e34a-4916-8802-bea28e22616a",
   "metadata": {},
   "outputs": [],
   "source": [
    "conversations = []\n",
    "with open('convo.txt', 'r',encoding='utf-8') as f:\n",
    "    for line in f:\n",
    "        line = line.strip()\n",
    "        if line:\n",
    "            speaker, dialogue = line.split(':')\n",
    "            dialogue = translate.translate(dialogue.strip(),dest=\"en\").text\n",
    "            #dialogue = dt_translator.translate(dialogue.strip(),dest=\"en\")\n",
    "            conversations.append(f'{dialogue}')"
   ]
  },
  {
   "cell_type": "code",
   "execution_count": 76,
   "id": "7d67a5d0-c642-4abc-8628-9b20c7801928",
   "metadata": {},
   "outputs": [
    {
     "data": {
      "text/plain": [
       "['Hello, I am Rajesh from CFI Finance Company. Can I speak to Mr. Suresh Kumar?',\n",
       " 'Yes, I am Suresh. What is the matter?',\n",
       " 'Sureshji, I am calling to talk about your loan. Your EMI is outstanding for the last three months.',\n",
       " 'Oh yes, I know. But you people are harassing me by calling every day. I had said that as soon as I have the money, I will pay it.',\n",
       " 'Look Sureshji, we understand your problem. But you also understand, this is our job. Do you know how much you owe?',\n",
       " 'Yes-yes, I have an idea. Would be around Rs 50,000.',\n",
       " 'No Sureshji, you are wrong. You owe a total of Rs 75,000, which includes late fees and interest.',\n",
       " 'What? so many? How can this be possible? Are you people looting?',\n",
       " 'Look Sureshji, getting angry will do nothing. You should have deposited the money on time. Now tell, till when can you deposit this amount?',\n",
       " 'Hey brother, listen to me! My mother is unwell and is admitted to the hospital. All the money was spent on his treatment.',\n",
       " 'Sureshji, I am not concerned with your situation. We just want our money. Are you understanding or not?',\n",
       " \"What crap are you doing? Aren't you ashamed? My mother is on the verge of death and you are talking about money?\",\n",
       " \"Look Suresh, I don't care about your stories. If you have taken a loan then you will have to repay it. Got it? Otherwise we will take legal action.\",\n",
       " 'Are you threatening? Do you know who I am? I could lose your job.',\n",
       " \"Oh wow! Now you are also threatening? Come on, let's see who can do what. You get your mother treated, I will treat you.\",\n",
       " 'Insolent How dare you talk like that? I will complain to your boss.',\n",
       " 'Do whatever you have to do. But remember, if the money does not come by tomorrow, I will come to your house myself. And then we will see who treats whom.',\n",
       " 'will you come to my house? OK come. I will see how you come. I will call the police.',\n",
       " 'Oh wow! Police? Very good. We will also see whose side the police supports – a debtor or a legal company.',\n",
       " 'You... you are a very bad person. You are taking advantage of my helplessness.',\n",
       " 'Yes-yes, I am very bad. But I am better than you. At least I keep my promises.',\n",
       " 'What do you mean? Have I ever broken a promise?',\n",
       " 'Hey Suresh Bhai, you had promised to pay EMI every month. What happened? forgot?',\n",
       " \"Look, I understand. But I don't really have any money right now. Is there no other way?\",\n",
       " 'There is a way. But for that you will have to do something.',\n",
       " 'What will need to be done? Tell me, I am ready.',\n",
       " 'First of all, stop treating your mother. Pay off our debt with that money.',\n",
       " 'What crap are you doing? Have you gone mad?',\n",
       " 'Oh no-no, I was joking. You get angry very easily.',\n",
       " \"Do you think this is all a joke? My life is being ruined and you're kidding?\",\n",
       " \"Well listen, I'll give you one more chance. Deposit Rs 25,000 by tomorrow. We will make a new plan for the rest.\",\n",
       " '25,000? Where should I get so much money?',\n",
       " \"That's your problem. Either borrow from friends, or sell something. But need money till tomorrow.\",\n",
       " \"Why don't you understand? I really don't have any money.\",\n",
       " \"Look Suresh, I think you are not understanding. If you don't pay the money by tomorrow, I will come to your office and expose you in front of everyone.\",\n",
       " \"No-no, don't do this. It is a question of my respect.\",\n",
       " \"Then it's okay. Deposit the money by tomorrow. Otherwise you know what will happen.\",\n",
       " \"Okay, I'll try. But please, don't come to my office.\",\n",
       " 'Very good. Now you are talking about wisdom. Remember, if the money is not received by 5 pm tomorrow, I will go straight to your office.',\n",
       " 'Yes-yes, I understood. I will try my best.',\n",
       " 'Ok. And yes, next time you take a loan, remember - if you do not repay the money on time, you will have to face trouble.',\n",
       " 'Yes, I understand. Now I keep it.',\n",
       " 'Ok. And remember, tomorrow at 5 pm. If there is a delay of even one minute...',\n",
       " 'Yes-yes, I said I will try.',\n",
       " \"Don't try, you have to do it. Got it? Okay, I will keep it now. See you tomorrow - either in the bank, or in your office.\",\n",
       " 'Yes, ok. hello.']"
      ]
     },
     "execution_count": 76,
     "metadata": {},
     "output_type": "execute_result"
    }
   ],
   "source": [
    "conversations"
   ]
  },
  {
   "cell_type": "code",
   "execution_count": 111,
   "id": "48bfcddd-1e71-4f09-998c-90e57e12a487",
   "metadata": {},
   "outputs": [],
   "source": [
    "converse = []\n",
    "context_window = 10\n",
    "for i in range(0,len(conversations),context_window):\n",
    "    sentences = conversations[i:min(i + context_window, len(conversations))]\n",
    "    _ = ' '.join(sentences)\n",
    "    converse.append(_)"
   ]
  },
  {
   "cell_type": "code",
   "execution_count": 91,
   "id": "8affd3df-2430-4431-8ebc-e7bca5db2e55",
   "metadata": {},
   "outputs": [],
   "source": [
    "convo = '. '.join(conversations)"
   ]
  },
  {
   "cell_type": "code",
   "execution_count": 141,
   "id": "10010677-da1f-4af1-b88e-ff9bc498e7be",
   "metadata": {},
   "outputs": [
    {
     "data": {
      "text/plain": [
       "\"Hello, I am Rajesh from CFI Finance Company. Can I speak to Mr. Suresh Kumar?. Yes, I am Suresh. What is the matter?. Sureshji, I am calling to talk about your loan. Your EMI is outstanding for the last three months.. Oh yes, I know. But you people are harassing me by calling every day. I had said that as soon as I have the money, I will pay it.. Look Sureshji, we understand your problem. But you also understand, this is our job. Do you know how much you owe?. Yes-yes, I have an idea. Would be around Rs 50,000.. No Sureshji, you are wrong. You owe a total of Rs 75,000, which includes late fees and interest.. What? so many? How can this be possible? Are you people looting?. Look Sureshji, getting angry will do nothing. You should have deposited the money on time. Now tell, till when can you deposit this amount?. Hey brother, listen to me! My mother is unwell and is admitted to the hospital. All the money was spent on his treatment.. Sureshji, I am not concerned with your situation. We just want our money. Are you understanding or not?. What crap are you doing? Aren't you ashamed? My mother is on the verge of death and you are talking about money?. Look Suresh, I don't care about your stories. If you have taken a loan then you will have to repay it. Got it? Otherwise we will take legal action.. Are you threatening? Do you know who I am? I could lose your job.. Oh wow! Now you are also threatening? Come on, let's see who can do what. You get your mother treated, I will treat you.. Insolent How dare you talk like that? I will complain to your boss.. Do whatever you have to do. But remember, if the money does not come by tomorrow, I will come to your house myself. And then we will see who treats whom.. will you come to my house? OK come. I will see how you come. I will call the police.. Oh wow! Police? Very good. We will also see whose side the police supports – a debtor or a legal company.. You... you are a very bad person. You are taking advantage of my helplessness.. Yes-yes, I am very bad. But I am better than you. At least I keep my promises.. What do you mean? Have I ever broken a promise?. Hey Suresh Bhai, you had promised to pay EMI every month. What happened? forgot?. Look, I understand. But I don't really have any money right now. Is there no other way?. There is a way. But for that you will have to do something.. What will need to be done? Tell me, I am ready.. First of all, stop treating your mother. Pay off our debt with that money.. What crap are you doing? Have you gone mad?. Oh no-no, I was joking. You get angry very easily.. Do you think this is all a joke? My life is being ruined and you're kidding?. Well listen, I'll give you one more chance. Deposit Rs 25,000 by tomorrow. We will make a new plan for the rest.. 25,000? Where should I get so much money?. That's your problem. Either borrow from friends, or sell something. But need money till tomorrow.. Why don't you understand? I really don't have any money.. Look Suresh, I think you are not understanding. If you don't pay the money by tomorrow, I will come to your office and expose you in front of everyone.. No-no, don't do this. It is a question of my respect.. Then it's okay. Deposit the money by tomorrow. Otherwise you know what will happen.. Okay, I'll try. But please, don't come to my office.. Very good. Now you are talking about wisdom. Remember, if the money is not received by 5 pm tomorrow, I will go straight to your office.. Yes-yes, I understood. I will try my best.. Ok. And yes, next time you take a loan, remember - if you do not repay the money on time, you will have to face trouble.. Yes, I understand. Now I keep it.. Ok. And remember, tomorrow at 5 pm. If there is a delay of even one minute.... Yes-yes, I said I will try.. Don't try, you have to do it. Got it? Okay, I will keep it now. See you tomorrow - either in the bank, or in your office.. Yes, ok. hello.\""
      ]
     },
     "execution_count": 141,
     "metadata": {},
     "output_type": "execute_result"
    }
   ],
   "source": [
    "convo"
   ]
  },
  {
   "cell_type": "code",
   "execution_count": 11,
   "id": "fab46421-731e-42bb-82b7-3ac41c087769",
   "metadata": {},
   "outputs": [
    {
     "name": "stderr",
     "output_type": "stream",
     "text": [
      "B:\\Software\\Anaconda\\envs\\predixion\\lib\\site-packages\\transformers\\utils\\generic.py:260: FutureWarning: `torch.utils._pytree._register_pytree_node` is deprecated. Please use `torch.utils._pytree.register_pytree_node` instead.\n",
      "  torch.utils._pytree._register_pytree_node(\n",
      "B:\\Software\\Anaconda\\envs\\predixion\\lib\\site-packages\\huggingface_hub\\file_download.py:1150: FutureWarning: `resume_download` is deprecated and will be removed in version 1.0.0. Downloads always resume when possible. If you want to force a new download, use `force_download=True`.\n",
      "  warnings.warn(\n",
      "B:\\Software\\Anaconda\\envs\\predixion\\lib\\site-packages\\transformers\\modeling_utils.py:479: FutureWarning: You are using `torch.load` with `weights_only=False` (the current default value), which uses the default pickle module implicitly. It is possible to construct malicious pickle data which will execute arbitrary code during unpickling (See https://github.com/pytorch/pytorch/blob/main/SECURITY.md#untrusted-models for more details). In a future release, the default value for `weights_only` will be flipped to `True`. This limits the functions that could be executed during unpickling. Arbitrary objects will no longer be allowed to be loaded via this mode unless they are explicitly allowlisted by the user via `torch.serialization.add_safe_globals`. We recommend you start setting `weights_only=True` for any use case where you don't have full control of the loaded file. Please open an issue on GitHub for any issues related to this experimental feature.\n",
      "  return torch.load(checkpoint_file, map_location=map_location)\n"
     ]
    }
   ],
   "source": [
    "# Use a pipeline as a high-level helper\n",
    "from transformers import pipeline\n",
    "\n",
    "summary_pipe = pipeline(\"summarization\", model=\"kabita-choudhary/finetuned-bart-for-conversation-summary\")"
   ]
  },
  {
   "cell_type": "code",
   "execution_count": 82,
   "id": "82ff9c36-36a0-4440-938b-26ab1260587a",
   "metadata": {},
   "outputs": [
    {
     "data": {
      "text/plain": [
       "[{'summary_text': \"Suresh owes CFI Finance Company Rs 75,000. He owes Rs 50,000 in late fees and interest. Suresh's mother is on the verge of death and the money was spent on her treatment. CFI wants him to pay it back tomorrow. If he doesn't, they will call the police and he will come to his house.\"}]"
      ]
     },
     "execution_count": 82,
     "metadata": {},
     "output_type": "execute_result"
    }
   ],
   "source": [
    "summary_pipe(convo)"
   ]
  },
  {
   "cell_type": "code",
   "execution_count": 84,
   "id": "1911d3e0-23b5-4f40-9500-2a47f2df0f58",
   "metadata": {},
   "outputs": [
    {
     "name": "stdout",
     "output_type": "stream",
     "text": [
      "[{'summary_text': \"Suresh owes CFI Finance Company Rs 75,000 in late fees and interest. CFI finance company threatens legal action if Suresh doesn't repay the money. Insolent, he threatens to call the police if the money doesn't come by tomorrow.\"}] \n",
      "\n"
     ]
    },
    {
     "name": "stderr",
     "output_type": "stream",
     "text": [
      "Your max_length is set to 142, but your input_length is only 74. Since this is a summarization task, where outputs shorter than the input are typically wanted, you might consider decreasing max_length manually, e.g. summarizer('...', max_length=37)\n"
     ]
    },
    {
     "name": "stdout",
     "output_type": "stream",
     "text": [
      "[{'summary_text': \"Suresh owes CFI Finance Company Rs 75,000 in late fees and interest. CFI finance company threatens legal action if Suresh doesn't repay the money by tomorrow at 5 pm. If the money is not received by 5 pm tomorrow, the company will come to his office and expose him in front of everyone.\"}] \n",
      "\n",
      "[{'summary_text': \"Suresh owes CFI Finance Company Rs 75,000 in late fees and interest. CFI finance company threatens legal action if Suresh doesn't repay the money by tomorrow at 5 pm. If the money is not received by 5 pm tomorrow, the company will come to his office and expose him.\"}] \n",
      "\n"
     ]
    }
   ],
   "source": [
    "summary = summary_pipe(converse[0])\n",
    "for sent in converse[1:]:\n",
    "    summary = summary_pipe(' '.join([summary[0]['summary_text'],sent]))\n",
    "    print(summary,'\\n')"
   ]
  },
  {
   "cell_type": "code",
   "execution_count": 253,
   "id": "b8bd9a5d-6c5c-4a27-8828-3022d817f5fd",
   "metadata": {},
   "outputs": [],
   "source": [
    "hi_summary = translate.translate(en_summary[0]['summary_text'],dest='hi').text"
   ]
  },
  {
   "cell_type": "code",
   "execution_count": 255,
   "id": "c8e12f6c-4b8a-45c3-9d2d-675f47e9b1ca",
   "metadata": {},
   "outputs": [
    {
     "data": {
      "text/plain": [
       "'सुरेशजी की मां मरने के कगार पर हैं. सुरेश ने कर्ज लिया है और उसे इसे चुकाना होगा या कानूनी कार्रवाई का सामना करना पड़ेगा। अगर कल पैसे नहीं आए तो वह उसके घर आएगा और देखेगा कि किसका इलाज होता है। वह पुलिस बुलाने की धमकी देता है।'"
      ]
     },
     "execution_count": 255,
     "metadata": {},
     "output_type": "execute_result"
    }
   ],
   "source": [
    "hi_summary"
   ]
  },
  {
   "cell_type": "code",
   "execution_count": 15,
   "id": "1e068ebd-7e25-4b8a-b1e6-fa093abd4dc2",
   "metadata": {},
   "outputs": [
    {
     "name": "stderr",
     "output_type": "stream",
     "text": [
      "B:\\Software\\Anaconda\\envs\\predixion\\lib\\site-packages\\transformers\\utils\\generic.py:260: FutureWarning: `torch.utils._pytree._register_pytree_node` is deprecated. Please use `torch.utils._pytree.register_pytree_node` instead.\n",
      "  torch.utils._pytree._register_pytree_node(\n",
      "B:\\Software\\Anaconda\\envs\\predixion\\lib\\site-packages\\huggingface_hub\\file_download.py:1150: FutureWarning: `resume_download` is deprecated and will be removed in version 1.0.0. Downloads always resume when possible. If you want to force a new download, use `force_download=True`.\n",
      "  warnings.warn(\n"
     ]
    },
    {
     "data": {
      "application/vnd.jupyter.widget-view+json": {
       "model_id": "08524f07fb684f309c935ff14915e0e8",
       "version_major": 2,
       "version_minor": 0
      },
      "text/plain": [
       "config.json:   0%|          | 0.00/942 [00:00<?, ?B/s]"
      ]
     },
     "metadata": {},
     "output_type": "display_data"
    },
    {
     "name": "stderr",
     "output_type": "stream",
     "text": [
      "B:\\Software\\Anaconda\\envs\\predixion\\lib\\site-packages\\huggingface_hub\\file_download.py:159: UserWarning: `huggingface_hub` cache-system uses symlinks by default to efficiently store duplicated files but your machine does not support them in C:\\Users\\shrey\\.cache\\huggingface\\hub\\models--l3cube-pune--hindi-bart-summary. Caching files will still work but in a degraded version that might require more space on your disk. This warning can be disabled by setting the `HF_HUB_DISABLE_SYMLINKS_WARNING` environment variable. For more details, see https://huggingface.co/docs/huggingface_hub/how-to-cache#limitations.\n",
      "To support symlinks on Windows, you either need to activate Developer Mode or to run Python as an administrator. In order to see activate developer mode, see this article: https://docs.microsoft.com/en-us/windows/apps/get-started/enable-your-device-for-development\n",
      "  warnings.warn(message)\n"
     ]
    },
    {
     "data": {
      "application/vnd.jupyter.widget-view+json": {
       "model_id": "524bb1ae97a847b38e4c90ec701a4b8f",
       "version_major": 2,
       "version_minor": 0
      },
      "text/plain": [
       "model.safetensors:   0%|          | 0.00/976M [00:00<?, ?B/s]"
      ]
     },
     "metadata": {},
     "output_type": "display_data"
    },
    {
     "data": {
      "application/vnd.jupyter.widget-view+json": {
       "model_id": "49ad570ee9934cef9c6c57d709bb7571",
       "version_major": 2,
       "version_minor": 0
      },
      "text/plain": [
       "tokenizer_config.json:   0%|          | 0.00/659 [00:00<?, ?B/s]"
      ]
     },
     "metadata": {},
     "output_type": "display_data"
    },
    {
     "data": {
      "application/vnd.jupyter.widget-view+json": {
       "model_id": "fde9edd8105842c48346bc06598de99b",
       "version_major": 2,
       "version_minor": 0
      },
      "text/plain": [
       "spiece.model:   0%|          | 0.00/1.90M [00:00<?, ?B/s]"
      ]
     },
     "metadata": {},
     "output_type": "display_data"
    },
    {
     "data": {
      "application/vnd.jupyter.widget-view+json": {
       "model_id": "c612be1c6ae74532ad3ceb0910507e6e",
       "version_major": 2,
       "version_minor": 0
      },
      "text/plain": [
       "tokenizer.json:   0%|          | 0.00/5.04M [00:00<?, ?B/s]"
      ]
     },
     "metadata": {},
     "output_type": "display_data"
    },
    {
     "data": {
      "application/vnd.jupyter.widget-view+json": {
       "model_id": "ebfaaa3ee6b4426d8a0e00ab849ac3b8",
       "version_major": 2,
       "version_minor": 0
      },
      "text/plain": [
       "added_tokens.json:   0%|          | 0.00/252 [00:00<?, ?B/s]"
      ]
     },
     "metadata": {},
     "output_type": "display_data"
    },
    {
     "data": {
      "application/vnd.jupyter.widget-view+json": {
       "model_id": "6ac9dec87b6e42fcb1a97f281f3bbd7e",
       "version_major": 2,
       "version_minor": 0
      },
      "text/plain": [
       "special_tokens_map.json:   0%|          | 0.00/501 [00:00<?, ?B/s]"
      ]
     },
     "metadata": {},
     "output_type": "display_data"
    }
   ],
   "source": [
    "# Use a pipeline as a high-level helper\n",
    "from transformers import pipeline\n",
    "\n",
    "hi_pipe = pipeline(\"text2text-generation\", model=\"l3cube-pune/hindi-bart-summary\")"
   ]
  },
  {
   "cell_type": "code",
   "execution_count": 17,
   "id": "9ba04eeb-ffbf-4ae5-8b18-11aa902afcd1",
   "metadata": {},
   "outputs": [],
   "source": [
    "conversations = []\n",
    "with open('convo.txt', 'r',encoding='utf-8') as f:\n",
    "    for line in f:\n",
    "        line = line.strip()\n",
    "        if line:\n",
    "            speaker, dialogue = line.split(':')\n",
    "            conversations.append(f'{dialogue}')"
   ]
  },
  {
   "cell_type": "code",
   "execution_count": 22,
   "id": "1ca1ee95-0275-41bd-b9c0-ca90cc7a3d90",
   "metadata": {},
   "outputs": [],
   "source": [
    "convo = '| '.join(conversations)"
   ]
  },
  {
   "cell_type": "code",
   "execution_count": 28,
   "id": "c1eae3dc-4fa2-4c35-8b14-72ed8bc03f86",
   "metadata": {},
   "outputs": [
    {
     "data": {
      "text/plain": [
       "' नमस्ते, मैं राजेश बोल रहा हूँ, CFI फाइनेंस कंपनी से। क्या मैं श्री सुरेश कुमार से बात कर सकता हूँ?|  हाँ, मैं ही सुरेश बोल रहा हूँ। क्या बात है?|  सुरेशजी, मैं आपके लोन के बारे में बात करने के लिए फोन कर रहा हूँ। आपका EMI पिछले तीन महीने से बकाया है।|  अरे हाँ, मुझे पता है। लेकिन आप लोग हर रोज फोन करके परेशान कर रहे हैं। मैंने कहा था ना कि जैसे ही पैसे होंगे, मैं भर दूंगा।|  देखिए सुरेशजी, हम समझते हैं आपकी परेशानी। लेकिन आप भी समझिए, यह हमारा काम है। आपको पता है कि आपके ऊपर कितना बकाया है?|  हाँ-हाँ, मुझे अंदाजा है। लगभग 50,000 रुपये होंगे।|  नहीं सुरेशजी, आप गलत हैं। आप पर कुल 75,000 रुपये बकाया है, जिसमें लेट फीस और ब्याज भी शामिल है।|  क्या? इतने ज्यादा? यह कैसे हो सकता है? आप लोग लूट रहे हैं क्या?|  देखिए सुरेशजी, गुस्सा करने से कुछ नहीं होगा। आपको समय पर पैसे जमा करने चाहिए थे। अब बताइए, कब तक आप यह राशि जमा कर सकते हैं?|  अरे भाई, मेरी बात तो सुनो! मेरी माँ की तबीयत खराब है, अस्पताल में भर्ती हैं। सारे पैसे उनके इलाज में खर्च हो गए।|   सुरेशजी, मुझे आपकी परिस्थिति से कोई मतलब नहीं है। हमें बस अपना पैसा चाहिए। आप समझ रहे हैं या नहीं?|  क्या बकवास कर रहे हो? तुम्हें शर्म नहीं आती? मेरी माँ मरने की कगार पर हैं और तुम पैसों की बात कर रहे हो?|   देखो सुरेश, मुझे तुम्हारी कहानियों से कोई फर्क नहीं पड़ता। तुमने लोन लिया है तो चुकाना पड़ेगा। समझे? वरना हम कानूनी कार्रवाई करेंगे।|  तुम धमकी दे रहे हो? तुम्हें पता है मैं कौन हूँ? मैं तुम्हारी नौकरी गंवा सकता हूँ।|   अरे वाह! अब तुम भी धमकी दे रहे हो? चलो, देखते हैं कौन क्या कर सकता है। तुम अपनी माँ का इलाज करवाओ, मैं तुम्हारा इलाज करूँगा।|  बदतमीज! तुम्हारी हिम्मत कैसे हुई ऐसे बात करने की? मैं तुम्हारे बॉस से शिकायत करूँगा।|  करो जो करना है। लेकिन याद रखना, अगर कल तक पैसे नहीं आए तो मैं खुद तुम्हारे घर आऊंगा। और तब देखेंगे कौन किसका इलाज करता है।|  तुम मेरे घर आओगे? ठीक है, आ जाओ। देखता हूँ कैसे आते हो। मैं पुलिस को बुला लूंगा।|  अरे वाह! पुलिस? बहुत अच्छा। हम भी देखेंगे कि पुलिस किसका साथ देती है - एक कर्जदार का या एक कानूनी कंपनी का।|  तुम... तुम बहुत बुरे इंसान हो। मेरी मजबूरी का फायदा उठा रहे हो।|   हाँ-हाँ, मैं बहुत बुरा हूँ। लेकिन तुमसे तो अच्छा ही हूँ। कम से कम मैं अपने वादे तो पूरे करता हूँ।|  क्या मतलब? मैंने कभी वादा तोड़ा है क्या?|  अरे सुरेश भाई, तुमने हर महीने EMI भरने का वादा किया था। वो क्या हुआ? भूल गए?|   देखो, मैं समझता हूँ। लेकिन अभी मेरे पास सच में पैसे नहीं हैं। क्या कोई और तरीका नहीं है?|  तरीका तो है। लेकिन उसके लिए तुम्हें कुछ करना होगा।|  क्या करना होगा? बताओ, मैं तैयार हूँ।|  पहले तो अपनी माँ का इलाज बंद करो। उन पैसों से हमारा कर्ज चुका दो।|   क्या बकवास कर रहे हो? तुम पागल हो गए हो क्या?|  अरे नहीं-नहीं, मैं तो मजाक कर रहा था। तुम तो बहुत जल्दी गुस्सा हो जाते हो।|   तुम्हें यह सब मजाक लगता है? मेरी जिंदगी बर्बाद हो रही है और तुम मजाक कर रहे हो?|  अच्छा सुनो, मैं तुम्हें एक और मौका देता हूँ। कल तक 25,000 रुपये जमा कर दो। बाकी के लिए हम एक नया प्लान बना लेंगे।|  25,000? इतने पैसे कहाँ से लाऊँ मैं?|  वो तुम्हारी समस्या है। चाहे दोस्तों से उधार लो, या फिर कुछ बेच दो। लेकिन कल तक पैसे चाहिए।|  तुम समझ क्यों नहीं रहे हो? मेरे पास सच में पैसे नहीं हैं।|  देखो सुरेश, मुझे लगता है तुम समझ नहीं रहे हो। अगर तुम कल तक पैसे नहीं देते, तो मैं तुम्हारे ऑफिस आऊंगा और सबके सामने तुम्हारी पोल खोल दूंगा।|   नहीं-नहीं, ऐसा मत करना। मेरी इज्जत का सवाल है।|  तो फिर ठीक है। कल तक पैसे जमा कर दो। वरना तुम जानते हो क्या होगा।|  ठीक है, मैं कोशिश करूँगा। लेकिन प्लीज, मेरे ऑफिस मत आना।|  बहुत अच्छा। अब तुम समझदारी की बात कर रहे हो। याद रखना, कल शाम 5 बजे तक पैसे नहीं आए तो मैं सीधा तुम्हारे ऑफिस पहुँच जाऊंगा।|  हाँ-हाँ, मैं समझ गया। मैं पूरी कोशिश करूँगा।|  ठीक है। और हाँ, अगली बार जब लोन लो तो याद रखना - समय पर पैसे नहीं चुकाओगे तो ऐसे ही परेशान होना पड़ेगा।|   हाँ, मैं समझ गया। अब मैं रखता हूँ।|  ठीक है। और याद रखना, कल शाम 5 बजे। एक मिनट की भी देरी हुई तो...|  हाँ-हाँ, मैंने कहा ना मैं कोशिश करूँगा।|  कोशिश नहीं, करना होगा। समझे? अच्छा, अब रखता हूँ। कल मिलते हैं - या तो बैंक में, या फिर तुम्हारे ऑफिस में।|   हाँ, ठीक है। नमस्ते।'"
      ]
     },
     "execution_count": 28,
     "metadata": {},
     "output_type": "execute_result"
    }
   ],
   "source": [
    "convo"
   ]
  },
  {
   "cell_type": "code",
   "execution_count": 30,
   "id": "d1d6a7be-c965-48b0-a3ac-262210fc2a05",
   "metadata": {},
   "outputs": [
    {
     "data": {
      "text/plain": [
       "[{'generated_text': 'सुरेशजी, मैं आपके लोन के बारे में बात करने के लिए फोन कर रहा हूँ।'}]"
      ]
     },
     "execution_count": 30,
     "metadata": {},
     "output_type": "execute_result"
    }
   ],
   "source": [
    "hi_pipe('''नमस्ते, मैं राजेश बोल रहा हूँ, CFI फाइनेंस कंपनी से। क्या मैं श्री सुरेश कुमार से बात कर सकता हूँ?|  हाँ, मैं ही सुरेश बोल रहा हूँ। क्या बात है?|  सुरेशजी, मैं आपके लोन के बारे में बात करने के लिए फोन कर रहा हूँ। आपका EMI पिछले तीन महीने से बकाया है।|  अरे हाँ, मुझे पता है। लेकिन आप लोग हर रोज फोन करके परेशान कर रहे हैं। मैंने कहा था ना कि जैसे ही पैसे होंगे, मैं भर दूंगा।|  देखिए सुरेशजी, हम समझते हैं आपकी परेशानी। लेकिन आप भी समझिए, यह हमारा काम है। आपको पता है कि आपके ऊपर कितना बकाया है?|  हाँ-हाँ, मुझे अंदाजा है। लगभग 50,000 रुपये होंगे।|  नहीं सुरेशजी, आप गलत हैं। आप पर कुल 75,000 रुपये बकाया है, जिसमें लेट फीस और ब्याज भी शामिल है।|  क्या? इतने ज्यादा? यह कैसे हो सकता है? आप लोग लूट रहे हैं क्या?|  देखिए सुरेशजी, गुस्सा करने से कुछ नहीं होगा। आपको समय पर पैसे जमा करने चाहिए थे। अब बताइए, कब तक आप यह राशि जमा कर सकते हैं?|  अरे भाई, मेरी बात तो सुनो! मेरी माँ की तबीयत खराब है, अस्पताल में भर्ती हैं। सारे पैसे उनके इलाज में खर्च हो गए।|   सुरेशजी, मुझे आपकी परिस्थिति से कोई मतलब नहीं है। हमें बस अपना पैसा चाहिए। आप समझ रहे हैं या नहीं?|  क्या बकवास कर रहे हो? तुम्हें शर्म नहीं आती? मेरी माँ मरने की कगार पर हैं और तुम पैसों की बात कर रहे हो?|   देखो सुरेश, मुझे तुम्हारी कहानियों से कोई फर्क नहीं पड़ता। तुमने लोन लिया है तो चुकाना पड़ेगा। समझे? वरना हम कानूनी कार्रवाई करेंगे।| ''')"
   ]
  },
  {
   "cell_type": "code",
   "execution_count": null,
   "id": "af99a987-2022-40f7-b411-ee5fc82a978d",
   "metadata": {},
   "outputs": [],
   "source": []
  },
  {
   "cell_type": "markdown",
   "id": "f65338a8-30b4-4159-91b5-860b3b3dce7e",
   "metadata": {},
   "source": [
    "# Action items"
   ]
  },
  {
   "cell_type": "code",
   "execution_count": 103,
   "id": "6ef83939-4996-48bc-a036-0e121b4dfbf6",
   "metadata": {},
   "outputs": [],
   "source": [
    "# Use a pipeline as a high-level helper\n",
    "from transformers import pipeline\n",
    "\n",
    "action_pipe = pipeline(\"text2text-generation\", model=\"debal/distilbart-samsum-action-items\")"
   ]
  },
  {
   "cell_type": "code",
   "execution_count": 129,
   "id": "3f49451d-c0b3-4ada-8b8b-d47d6b670479",
   "metadata": {},
   "outputs": [
    {
     "data": {
      "application/vnd.jupyter.widget-view+json": {
       "model_id": "1a9f6ed2e3ae452487429bad25dabca3",
       "version_major": 2,
       "version_minor": 0
      },
      "text/plain": [
       "config.json:   0%|          | 0.00/1.66k [00:00<?, ?B/s]"
      ]
     },
     "metadata": {},
     "output_type": "display_data"
    },
    {
     "data": {
      "application/vnd.jupyter.widget-view+json": {
       "model_id": "c8f5a3058c6243c5b5e6e8c002e8a182",
       "version_major": 2,
       "version_minor": 0
      },
      "text/plain": [
       "pytorch_model.bin:   0%|          | 0.00/1.63G [00:00<?, ?B/s]"
      ]
     },
     "metadata": {},
     "output_type": "display_data"
    },
    {
     "data": {
      "application/vnd.jupyter.widget-view+json": {
       "model_id": "d8cf4f40ed6d4ea48a53f604eab5219c",
       "version_major": 2,
       "version_minor": 0
      },
      "text/plain": [
       "tokenizer_config.json:   0%|          | 0.00/1.38k [00:00<?, ?B/s]"
      ]
     },
     "metadata": {},
     "output_type": "display_data"
    },
    {
     "data": {
      "application/vnd.jupyter.widget-view+json": {
       "model_id": "477561ec3d0b4017a37dccea1834b415",
       "version_major": 2,
       "version_minor": 0
      },
      "text/plain": [
       "vocab.json:   0%|          | 0.00/798k [00:00<?, ?B/s]"
      ]
     },
     "metadata": {},
     "output_type": "display_data"
    },
    {
     "data": {
      "application/vnd.jupyter.widget-view+json": {
       "model_id": "d28b03b529874cba92c0615ebd302ed1",
       "version_major": 2,
       "version_minor": 0
      },
      "text/plain": [
       "merges.txt:   0%|          | 0.00/456k [00:00<?, ?B/s]"
      ]
     },
     "metadata": {},
     "output_type": "display_data"
    },
    {
     "data": {
      "application/vnd.jupyter.widget-view+json": {
       "model_id": "241407bd4c9c4c62a8861d87b2953178",
       "version_major": 2,
       "version_minor": 0
      },
      "text/plain": [
       "tokenizer.json:   0%|          | 0.00/2.11M [00:00<?, ?B/s]"
      ]
     },
     "metadata": {},
     "output_type": "display_data"
    },
    {
     "data": {
      "application/vnd.jupyter.widget-view+json": {
       "model_id": "fd3a5af5ab784c909c604a1e1e6a86c1",
       "version_major": 2,
       "version_minor": 0
      },
      "text/plain": [
       "added_tokens.json:   0%|          | 0.00/21.0 [00:00<?, ?B/s]"
      ]
     },
     "metadata": {},
     "output_type": "display_data"
    },
    {
     "data": {
      "application/vnd.jupyter.widget-view+json": {
       "model_id": "bf3dbb1772704052950ca924a614aa04",
       "version_major": 2,
       "version_minor": 0
      },
      "text/plain": [
       "special_tokens_map.json:   0%|          | 0.00/280 [00:00<?, ?B/s]"
      ]
     },
     "metadata": {},
     "output_type": "display_data"
    }
   ],
   "source": [
    "# Use a pipeline as a high-level helper\n",
    "\n",
    "from transformers import pipeline\n",
    "\n",
    "action_pipe2 = pipeline(\"text2text-generation\", model=\"debal/bart-large-samsum-action-items\")"
   ]
  },
  {
   "cell_type": "code",
   "execution_count": 123,
   "id": "4233238b-7a12-4f5d-8e4f-400123eb2bf5",
   "metadata": {},
   "outputs": [
    {
     "name": "stderr",
     "output_type": "stream",
     "text": [
      "B:\\Software\\Anaconda\\envs\\predixion\\lib\\site-packages\\transformers\\generation\\utils.py:1254: UserWarning: Using the model-agnostic default `max_length` (=20) to control thegeneration length. We recommend setting `max_new_tokens` to control the maximum length of the generation.\n",
      "  warnings.warn(\n",
      "B:\\Software\\Anaconda\\envs\\predixion\\lib\\site-packages\\transformers\\generation\\utils.py:1262: UserWarning: Input length of input_ids is 52, but `max_length` is set to 20. This can lead to unexpected behavior. You should consider increasing `max_new_tokens`.\n",
      "  warnings.warn(\n"
     ]
    },
    {
     "name": "stdout",
     "output_type": "stream",
     "text": [
      "[[{'generated_text': \"Action Item:[SEP]Deposit 25,000 rupees||Rajesh[SEP]Stop mother's treatment||All[SEP]Make a new plan for the rest||Both[SEP]Meet in bank or office tomorrow at 5 pm||All This is a question of my honour||UNKNOWN[SEP]\"}]] \n",
      "\n",
      "[[{'generated_text': \"Action Item:[SEP]Deposit 25,000 rupees||Rajesh[SEP]Stop mother's treatment||All[SEP]Make a new plan for the rest||Both[SEP]Meet in bank or office tomorrow at 5 pm||All This is a question of my honour||UNKNOWN[SEP]\"}], [{'generated_text': \"Action Item:[SEP]Deposit 25,000 rupees||Rajesh[SEP]Stop mother's treatment||All[SEP]Make a new plan for the rest||Both[SEP]Meet in bank or office tomorrow at 5 pm||All This is a question of my honour||UNKNOWN[SEP]\"}]] \n",
      "\n",
      "[[{'generated_text': \"Action Item:[SEP]Deposit 25,000 rupees||Rajesh[SEP]Stop mother's treatment||All[SEP]Make a new plan for the rest||Both[SEP]Meet in bank or office tomorrow at 5 pm||All This is a question of my honour||UNKNOWN[SEP]\"}], [{'generated_text': \"Action Item:[SEP]Deposit 25,000 rupees||Rajesh[SEP]Stop mother's treatment||All[SEP]Make a new plan for the rest||Both[SEP]Meet in bank or office tomorrow at 5 pm||All This is a question of my honour||UNKNOWN[SEP]\"}], [{'generated_text': \"Action Item:[SEP]Deposit 25,000 rupees||Rajesh[SEP]Stop mother's treatment||All[SEP]Make a new plan for the rest||Both[SEP]Meet in bank or office tomorrow at 5 pm||All This is a question of my honour||UNKNOWN[SEP]\"}]] \n",
      "\n",
      "[[{'generated_text': \"Action Item:[SEP]Deposit 25,000 rupees||Rajesh[SEP]Stop mother's treatment||All[SEP]Make a new plan for the rest||Both[SEP]Meet in bank or office tomorrow at 5 pm||All This is a question of my honour||UNKNOWN[SEP]\"}], [{'generated_text': \"Action Item:[SEP]Deposit 25,000 rupees||Rajesh[SEP]Stop mother's treatment||All[SEP]Make a new plan for the rest||Both[SEP]Meet in bank or office tomorrow at 5 pm||All This is a question of my honour||UNKNOWN[SEP]\"}], [{'generated_text': \"Action Item:[SEP]Deposit 25,000 rupees||Rajesh[SEP]Stop mother's treatment||All[SEP]Make a new plan for the rest||Both[SEP]Meet in bank or office tomorrow at 5 pm||All This is a question of my honour||UNKNOWN[SEP]\"}], [{'generated_text': \"Action Item:[SEP]Deposit 25,000 rupees||Rajesh[SEP]Stop mother's treatment||All[SEP]Make a new plan for the rest||Both[SEP]Meet in bank or office tomorrow at 5 pm||All This is a question of my honour||UNKNOWN[SEP]\"}]] \n",
      "\n",
      "[[{'generated_text': \"Action Item:[SEP]Deposit 25,000 rupees||Rajesh[SEP]Stop mother's treatment||All[SEP]Make a new plan for the rest||Both[SEP]Meet in bank or office tomorrow at 5 pm||All This is a question of my honour||UNKNOWN[SEP]\"}], [{'generated_text': \"Action Item:[SEP]Deposit 25,000 rupees||Rajesh[SEP]Stop mother's treatment||All[SEP]Make a new plan for the rest||Both[SEP]Meet in bank or office tomorrow at 5 pm||All This is a question of my honour||UNKNOWN[SEP]\"}], [{'generated_text': \"Action Item:[SEP]Deposit 25,000 rupees||Rajesh[SEP]Stop mother's treatment||All[SEP]Make a new plan for the rest||Both[SEP]Meet in bank or office tomorrow at 5 pm||All This is a question of my honour||UNKNOWN[SEP]\"}], [{'generated_text': \"Action Item:[SEP]Deposit 25,000 rupees||Rajesh[SEP]Stop mother's treatment||All[SEP]Make a new plan for the rest||Both[SEP]Meet in bank or office tomorrow at 5 pm||All This is a question of my honour||UNKNOWN[SEP]\"}], [{'generated_text': \"Action Item:[SEP]Deposit 25,000 rupees||Rajesh[SEP]Stop mother's treatment||All[SEP]Make a new plan for the rest||Both[SEP]Meet in bank or office tomorrow at 5 pm||All This is a question of my honour||UNKNOWN[SEP]\"}]] \n",
      "\n"
     ]
    }
   ],
   "source": [
    "action = []\n",
    "for sent in converse:\n",
    "    action.append(action_pipe2(actions[0]['generated_text']))"
   ]
  },
  {
   "cell_type": "code",
   "execution_count": 50,
   "id": "f3a6a977-7b26-4017-8fa4-6aca1cc6e12b",
   "metadata": {},
   "outputs": [
    {
     "data": {
      "text/plain": [
       "[{'generated_text': \"Action Item: Deposit 25,000 rupees||Rajesh[SEP]Stop mother's treatment||All-All-Make a new plan for the rest||BothMeet in bank or office tomorrow at 5 pm||All This is a question of his honour||UNKNOWN\"}]"
      ]
     },
     "execution_count": 50,
     "metadata": {},
     "output_type": "execute_result"
    }
   ],
   "source": [
    "action[1]"
   ]
  }
 ],
 "metadata": {
  "kernelspec": {
   "display_name": "Python [conda env:predixion]",
   "language": "python",
   "name": "conda-env-predixion-py"
  },
  "language_info": {
   "codemirror_mode": {
    "name": "ipython",
    "version": 3
   },
   "file_extension": ".py",
   "mimetype": "text/x-python",
   "name": "python",
   "nbconvert_exporter": "python",
   "pygments_lexer": "ipython3",
   "version": "3.9.18"
  }
 },
 "nbformat": 4,
 "nbformat_minor": 5
}
